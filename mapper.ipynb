{
 "cells": [
  {
   "cell_type": "markdown",
   "id": "bf6d386b",
   "metadata": {},
   "source": [
    "# Latent mapper"
   ]
  },
  {
   "cell_type": "markdown",
   "id": "4728520b",
   "metadata": {},
   "source": [
    "## Установка пакетов"
   ]
  },
  {
   "cell_type": "code",
   "execution_count": 2,
   "id": "1a01108e",
   "metadata": {
    "scrolled": true
   },
   "outputs": [
    {
     "name": "stdout",
     "output_type": "stream",
     "text": [
      "Клонирование в «stylegan3»...\n",
      "remote: Enumerating objects: 212, done.\u001b[K\n",
      "remote: Counting objects: 100% (5/5), done.\u001b[K\n",
      "remote: Compressing objects: 100% (5/5), done.\u001b[K\n",
      "remote: Total 212 (delta 0), reused 1 (delta 0), pack-reused 207 (from 1)\u001b[K\n",
      "Получение объектов: 100% (212/212), 4.17 МиБ | 351.00 КиБ/с, готово.\n",
      "Определение изменений: 100% (98/98), готово.\n",
      "Requirement already satisfied: ftfy in /home/vlad/.pyenv/versions/3.12.0/envs/images/lib/python3.12/site-packages (6.3.1)\n",
      "Requirement already satisfied: regex in /home/vlad/.pyenv/versions/3.12.0/envs/images/lib/python3.12/site-packages (2024.9.11)\n",
      "Requirement already satisfied: tqdm in /home/vlad/.pyenv/versions/3.12.0/envs/images/lib/python3.12/site-packages (4.66.5)\n",
      "Requirement already satisfied: wcwidth in /home/vlad/.pyenv/versions/3.12.0/envs/images/lib/python3.12/site-packages (from ftfy) (0.2.13)\n",
      "\n",
      "\u001b[1m[\u001b[0m\u001b[34;49mnotice\u001b[0m\u001b[1;39;49m]\u001b[0m\u001b[39;49m A new release of pip is available: \u001b[0m\u001b[31;49m23.2.1\u001b[0m\u001b[39;49m -> \u001b[0m\u001b[32;49m24.3.1\u001b[0m\n",
      "\u001b[1m[\u001b[0m\u001b[34;49mnotice\u001b[0m\u001b[1;39;49m]\u001b[0m\u001b[39;49m To update, run: \u001b[0m\u001b[32;49mpython -m pip install --upgrade pip\u001b[0m\n",
      "Collecting git+https://github.com/openai/CLIP.git\n",
      "  Cloning https://github.com/openai/CLIP.git to /tmp/pip-req-build-yk3wjphe\n",
      "  Running command git clone --filter=blob:none --quiet https://github.com/openai/CLIP.git /tmp/pip-req-build-yk3wjphe\n",
      "  Resolved https://github.com/openai/CLIP.git to commit dcba3cb2e2827b402d2701e7e1c7d9fed8a20ef1\n",
      "  Installing build dependencies ... \u001b[?25ldone\n",
      "\u001b[?25h  Getting requirements to build wheel ... \u001b[?25ldone\n",
      "\u001b[?25h  Preparing metadata (pyproject.toml) ... \u001b[?25ldone\n",
      "\u001b[?25hRequirement already satisfied: ftfy in /home/vlad/.pyenv/versions/3.12.0/envs/images/lib/python3.12/site-packages (from clip==1.0) (6.3.1)\n",
      "Requirement already satisfied: packaging in /home/vlad/.pyenv/versions/3.12.0/envs/images/lib/python3.12/site-packages (from clip==1.0) (24.1)\n",
      "Requirement already satisfied: regex in /home/vlad/.pyenv/versions/3.12.0/envs/images/lib/python3.12/site-packages (from clip==1.0) (2024.9.11)\n",
      "Requirement already satisfied: tqdm in /home/vlad/.pyenv/versions/3.12.0/envs/images/lib/python3.12/site-packages (from clip==1.0) (4.66.5)\n",
      "Requirement already satisfied: torch in /home/vlad/.pyenv/versions/3.12.0/envs/images/lib/python3.12/site-packages (from clip==1.0) (2.4.1)\n",
      "Requirement already satisfied: torchvision in /home/vlad/.pyenv/versions/3.12.0/envs/images/lib/python3.12/site-packages (from clip==1.0) (0.19.1)\n",
      "Requirement already satisfied: wcwidth in /home/vlad/.pyenv/versions/3.12.0/envs/images/lib/python3.12/site-packages (from ftfy->clip==1.0) (0.2.13)\n",
      "Requirement already satisfied: filelock in /home/vlad/.pyenv/versions/3.12.0/envs/images/lib/python3.12/site-packages (from torch->clip==1.0) (3.16.0)\n",
      "Requirement already satisfied: typing-extensions>=4.8.0 in /home/vlad/.pyenv/versions/3.12.0/envs/images/lib/python3.12/site-packages (from torch->clip==1.0) (4.12.2)\n",
      "Requirement already satisfied: sympy in /home/vlad/.pyenv/versions/3.12.0/envs/images/lib/python3.12/site-packages (from torch->clip==1.0) (1.13.2)\n",
      "Requirement already satisfied: networkx in /home/vlad/.pyenv/versions/3.12.0/envs/images/lib/python3.12/site-packages (from torch->clip==1.0) (3.3)\n",
      "Requirement already satisfied: jinja2 in /home/vlad/.pyenv/versions/3.12.0/envs/images/lib/python3.12/site-packages (from torch->clip==1.0) (3.1.4)\n",
      "Requirement already satisfied: fsspec in /home/vlad/.pyenv/versions/3.12.0/envs/images/lib/python3.12/site-packages (from torch->clip==1.0) (2024.6.1)\n",
      "Requirement already satisfied: setuptools in /home/vlad/.pyenv/versions/3.12.0/envs/images/lib/python3.12/site-packages (from torch->clip==1.0) (75.1.0)\n",
      "Requirement already satisfied: nvidia-cuda-nvrtc-cu12==12.1.105 in /home/vlad/.pyenv/versions/3.12.0/envs/images/lib/python3.12/site-packages (from torch->clip==1.0) (12.1.105)\n",
      "Requirement already satisfied: nvidia-cuda-runtime-cu12==12.1.105 in /home/vlad/.pyenv/versions/3.12.0/envs/images/lib/python3.12/site-packages (from torch->clip==1.0) (12.1.105)\n",
      "Requirement already satisfied: nvidia-cuda-cupti-cu12==12.1.105 in /home/vlad/.pyenv/versions/3.12.0/envs/images/lib/python3.12/site-packages (from torch->clip==1.0) (12.1.105)\n",
      "Requirement already satisfied: nvidia-cudnn-cu12==9.1.0.70 in /home/vlad/.pyenv/versions/3.12.0/envs/images/lib/python3.12/site-packages (from torch->clip==1.0) (9.1.0.70)\n",
      "Requirement already satisfied: nvidia-cublas-cu12==12.1.3.1 in /home/vlad/.pyenv/versions/3.12.0/envs/images/lib/python3.12/site-packages (from torch->clip==1.0) (12.1.3.1)\n",
      "Requirement already satisfied: nvidia-cufft-cu12==11.0.2.54 in /home/vlad/.pyenv/versions/3.12.0/envs/images/lib/python3.12/site-packages (from torch->clip==1.0) (11.0.2.54)\n",
      "Requirement already satisfied: nvidia-curand-cu12==10.3.2.106 in /home/vlad/.pyenv/versions/3.12.0/envs/images/lib/python3.12/site-packages (from torch->clip==1.0) (10.3.2.106)\n",
      "Requirement already satisfied: nvidia-cusolver-cu12==11.4.5.107 in /home/vlad/.pyenv/versions/3.12.0/envs/images/lib/python3.12/site-packages (from torch->clip==1.0) (11.4.5.107)\n",
      "Requirement already satisfied: nvidia-cusparse-cu12==12.1.0.106 in /home/vlad/.pyenv/versions/3.12.0/envs/images/lib/python3.12/site-packages (from torch->clip==1.0) (12.1.0.106)\n",
      "Requirement already satisfied: nvidia-nccl-cu12==2.20.5 in /home/vlad/.pyenv/versions/3.12.0/envs/images/lib/python3.12/site-packages (from torch->clip==1.0) (2.20.5)\n",
      "Requirement already satisfied: nvidia-nvtx-cu12==12.1.105 in /home/vlad/.pyenv/versions/3.12.0/envs/images/lib/python3.12/site-packages (from torch->clip==1.0) (12.1.105)\n",
      "Requirement already satisfied: triton==3.0.0 in /home/vlad/.pyenv/versions/3.12.0/envs/images/lib/python3.12/site-packages (from torch->clip==1.0) (3.0.0)\n",
      "Requirement already satisfied: nvidia-nvjitlink-cu12 in /home/vlad/.pyenv/versions/3.12.0/envs/images/lib/python3.12/site-packages (from nvidia-cusolver-cu12==11.4.5.107->torch->clip==1.0) (12.6.68)\n",
      "Requirement already satisfied: numpy in /home/vlad/.pyenv/versions/3.12.0/envs/images/lib/python3.12/site-packages (from torchvision->clip==1.0) (2.1.1)\n",
      "Requirement already satisfied: pillow!=8.3.*,>=5.3.0 in /home/vlad/.pyenv/versions/3.12.0/envs/images/lib/python3.12/site-packages (from torchvision->clip==1.0) (10.4.0)\n",
      "Requirement already satisfied: MarkupSafe>=2.0 in /home/vlad/.pyenv/versions/3.12.0/envs/images/lib/python3.12/site-packages (from jinja2->torch->clip==1.0) (2.1.5)\n",
      "Requirement already satisfied: mpmath<1.4,>=1.1.0 in /home/vlad/.pyenv/versions/3.12.0/envs/images/lib/python3.12/site-packages (from sympy->torch->clip==1.0) (1.3.0)\n",
      "\n",
      "\u001b[1m[\u001b[0m\u001b[34;49mnotice\u001b[0m\u001b[1;39;49m]\u001b[0m\u001b[39;49m A new release of pip is available: \u001b[0m\u001b[31;49m23.2.1\u001b[0m\u001b[39;49m -> \u001b[0m\u001b[32;49m24.3.1\u001b[0m\n",
      "\u001b[1m[\u001b[0m\u001b[34;49mnotice\u001b[0m\u001b[1;39;49m]\u001b[0m\u001b[39;49m To update, run: \u001b[0m\u001b[32;49mpython -m pip install --upgrade pip\u001b[0m\n"
     ]
    }
   ],
   "source": [
    "!git clone https://github.com/orpatashnik/StyleCLIP.git\n",
    "\n",
    "import os\n",
    "os.chdir(f'./StyleCLIP')\n",
    "\n",
    "!pip install ftfy regex tqdm\n",
    "!pip install git+https://github.com/openai/CLIP.git"
   ]
  },
  {
   "cell_type": "code",
   "execution_count": 2,
   "id": "14069877",
   "metadata": {},
   "outputs": [
    {
     "name": "stdout",
     "output_type": "stream",
     "text": [
      "Requirement already satisfied: gdown in /home/vlad/.pyenv/versions/3.12.0/envs/images/lib/python3.12/site-packages (5.2.0)\n",
      "Requirement already satisfied: beautifulsoup4 in /home/vlad/.pyenv/versions/3.12.0/envs/images/lib/python3.12/site-packages (from gdown) (4.12.3)\n",
      "Requirement already satisfied: filelock in /home/vlad/.pyenv/versions/3.12.0/envs/images/lib/python3.12/site-packages (from gdown) (3.16.0)\n",
      "Requirement already satisfied: requests[socks] in /home/vlad/.pyenv/versions/3.12.0/envs/images/lib/python3.12/site-packages (from gdown) (2.32.3)\n",
      "Requirement already satisfied: tqdm in /home/vlad/.pyenv/versions/3.12.0/envs/images/lib/python3.12/site-packages (from gdown) (4.66.5)\n",
      "Requirement already satisfied: soupsieve>1.2 in /home/vlad/.pyenv/versions/3.12.0/envs/images/lib/python3.12/site-packages (from beautifulsoup4->gdown) (2.6)\n",
      "Requirement already satisfied: charset-normalizer<4,>=2 in /home/vlad/.pyenv/versions/3.12.0/envs/images/lib/python3.12/site-packages (from requests[socks]->gdown) (3.3.2)\n",
      "Requirement already satisfied: idna<4,>=2.5 in /home/vlad/.pyenv/versions/3.12.0/envs/images/lib/python3.12/site-packages (from requests[socks]->gdown) (3.8)\n",
      "Requirement already satisfied: urllib3<3,>=1.21.1 in /home/vlad/.pyenv/versions/3.12.0/envs/images/lib/python3.12/site-packages (from requests[socks]->gdown) (2.2.3)\n",
      "Requirement already satisfied: certifi>=2017.4.17 in /home/vlad/.pyenv/versions/3.12.0/envs/images/lib/python3.12/site-packages (from requests[socks]->gdown) (2024.8.30)\n",
      "Requirement already satisfied: PySocks!=1.5.7,>=1.5.6 in /home/vlad/.pyenv/versions/3.12.0/envs/images/lib/python3.12/site-packages (from requests[socks]->gdown) (1.7.1)\n",
      "\n",
      "\u001b[1m[\u001b[0m\u001b[34;49mnotice\u001b[0m\u001b[1;39;49m]\u001b[0m\u001b[39;49m A new release of pip is available: \u001b[0m\u001b[31;49m23.2.1\u001b[0m\u001b[39;49m -> \u001b[0m\u001b[32;49m24.3.1\u001b[0m\n",
      "\u001b[1m[\u001b[0m\u001b[34;49mnotice\u001b[0m\u001b[1;39;49m]\u001b[0m\u001b[39;49m To update, run: \u001b[0m\u001b[32;49mpython -m pip install --upgrade pip\u001b[0m\n",
      "Downloading...\n",
      "From (original): https://drive.google.com/uc?id=1EM87UquaoQmk17Q8d5kYIAHqu0dkYqdT\n",
      "From (redirected): https://drive.google.com/uc?id=1EM87UquaoQmk17Q8d5kYIAHqu0dkYqdT&confirm=t&uuid=79ee67e0-39f3-4adc-880e-841b06fb02a8\n",
      "To: /home/vlad/StyleCLIP-main/new_notebooks/StyleCLIP/stylegan2-ffhq-config-f.pt\n",
      "100%|█████████████████████████████████████████| 381M/381M [13:13<00:00, 481kB/s]\n"
     ]
    }
   ],
   "source": [
    "!pip install gdown\n",
    "\n",
    "!gdown https://drive.google.com/uc?id=1EM87UquaoQmk17Q8d5kYIAHqu0dkYqdT\n",
    "!mv stylegan2-ffhq-config-f.pt pretrained_models"
   ]
  },
  {
   "cell_type": "code",
   "execution_count": 3,
   "id": "e9c88051",
   "metadata": {},
   "outputs": [
    {
     "name": "stdout",
     "output_type": "stream",
     "text": [
      "Downloading...\n",
      "From (original): https://drive.google.com/uc?id=1N0MZSqPRJpLfP4mFQCS14ikrVSe8vQlL\n",
      "From (redirected): https://drive.google.com/uc?id=1N0MZSqPRJpLfP4mFQCS14ikrVSe8vQlL&confirm=t&uuid=f2695443-b382-4333-9d41-ad403a6d7e34\n",
      "To: /home/vlad/StyleCLIP-main/new_notebooks/StyleCLIP/model_ir_se50.pth\n",
      "100%|█████████████████████████████████████████| 175M/175M [06:15<00:00, 467kB/s]\n"
     ]
    }
   ],
   "source": [
    "!gdown https://drive.google.com/uc?id=1N0MZSqPRJpLfP4mFQCS14ikrVSe8vQlL\n",
    "!mv model_ir_se50.pth pretrained_models"
   ]
  },
  {
   "cell_type": "markdown",
   "id": "0f457210",
   "metadata": {},
   "source": [
    "## Если они установлены"
   ]
  },
  {
   "cell_type": "code",
   "execution_count": 1,
   "id": "538a5229",
   "metadata": {},
   "outputs": [],
   "source": [
    "import os\n",
    "os.chdir(f'./StyleCLIP')"
   ]
  },
  {
   "cell_type": "code",
   "execution_count": 2,
   "id": "98134b28",
   "metadata": {},
   "outputs": [],
   "source": [
    "import torch\n",
    "import numpy as np\n",
    "import torchvision.transforms as T\n",
    "from tqdm.notebook import tqdm\n",
    "from torch.utils.data import DataLoader\n",
    "from models.stylegan2.model import EqualLinear, PixelNorm\n",
    "from models.stylegan2.model import Generator #StyleGAN\n",
    "import ipywidgets as widgets\n",
    "import clip #CLIP\n",
    "from models.facial_recognition.model_irse import Backbone #ArcFace"
   ]
  },
  {
   "cell_type": "markdown",
   "id": "806a1e3b",
   "metadata": {},
   "source": [
    "## Загрузка готовых моделей"
   ]
  },
  {
   "cell_type": "code",
   "execution_count": 3,
   "id": "8b8e2913",
   "metadata": {},
   "outputs": [],
   "source": [
    "class Mapper(torch.nn.Module):\n",
    "    def __init__(self, latent_dim = 512):\n",
    "        super(Mapper, self).__init__()\n",
    "        \n",
    "        el = EqualLinear(latent_dim, latent_dim, lr_mul = 0.01, activation = \"fused_lrelu\")\n",
    "        layers = [PixelNorm(), el, el, el, el]\n",
    "        self.mapping = torch.nn.Sequential(*layers)\n",
    "\n",
    "    def forward(self, x):\n",
    "        x = self.mapping(x)\n",
    "        return x"
   ]
  },
  {
   "cell_type": "code",
   "execution_count": 4,
   "id": "534f95b7",
   "metadata": {},
   "outputs": [
    {
     "name": "stderr",
     "output_type": "stream",
     "text": [
      "/tmp/ipykernel_16355/838144541.py:33: FutureWarning: You are using `torch.load` with `weights_only=False` (the current default value), which uses the default pickle module implicitly. It is possible to construct malicious pickle data which will execute arbitrary code during unpickling (See https://github.com/pytorch/pytorch/blob/main/SECURITY.md#untrusted-models for more details). In a future release, the default value for `weights_only` will be flipped to `True`. This limits the functions that could be executed during unpickling. Arbitrary objects will no longer be allowed to be loaded via this mode unless they are explicitly allowlisted by the user via `torch.serialization.add_safe_globals`. We recommend you start setting `weights_only=True` for any use case where you don't have full control of the loaded file. Please open an issue on GitHub for any issues related to this experimental feature.\n",
      "  sg.load_state_dict(torch.load(sg_weights)[\"g_ema\"], strict = False)\n",
      "/tmp/ipykernel_16355/838144541.py:37: FutureWarning: You are using `torch.load` with `weights_only=False` (the current default value), which uses the default pickle module implicitly. It is possible to construct malicious pickle data which will execute arbitrary code during unpickling (See https://github.com/pytorch/pytorch/blob/main/SECURITY.md#untrusted-models for more details). In a future release, the default value for `weights_only` will be flipped to `True`. This limits the functions that could be executed during unpickling. Arbitrary objects will no longer be allowed to be loaded via this mode unless they are explicitly allowlisted by the user via `torch.serialization.add_safe_globals`. We recommend you start setting `weights_only=True` for any use case where you don't have full control of the loaded file. Please open an issue on GitHub for any issues related to this experimental feature.\n",
      "  af.load_state_dict(torch.load(af_weighs))\n"
     ]
    }
   ],
   "source": [
    "def check_high_mem_gpu(size):\n",
    "    return torch.cuda.get_device_properties(0).total_memory > size * 1024**3\n",
    "\n",
    "device1 = \"cuda\" if torch.cuda.is_available() else \"cpu\"\n",
    "# Запускаем CLIP на ЦП, если мало видеопамяти\n",
    "device2 = \"cuda\" if torch.cuda.is_available() and check_high_mem_gpu(3) else \"cpu\"\n",
    "device3 = \"cuda\" if torch.cuda.is_available() else \"cpu\"\n",
    "\n",
    "sg_weights = \"pretrained_models/stylegan2-ffhq-config-f.pt\"\n",
    "af_weighs = \"pretrained_models/model_ir_se50.pth\"\n",
    "\n",
    "# Чем больше видеопамяти - тем выше качество картинки\n",
    "if check_high_mem_gpu(8):\n",
    "    sg = Generator(512, 512, 8)\n",
    "    batch_size = 512\n",
    "if check_high_mem_gpu(7):\n",
    "    sg = Generator(256, 512, 8)\n",
    "    batch_size = 256\n",
    "elif check_high_mem_gpu(6):\n",
    "    sg = Generator(128, 512, 8)\n",
    "    batch_size = 128\n",
    "elif check_high_mem_gpu(5):\n",
    "    sg = Generator(64, 512, 8)\n",
    "    batch_size = 64\n",
    "elif check_high_mem_gpu(4):\n",
    "    sg = Generator(32, 512, 8)\n",
    "    batch_size = 32\n",
    "else:\n",
    "    sg = Generator(16, 512, 8)\n",
    "    batch_size = 16\n",
    "\n",
    "mp = Mapper(512).to(device1)\n",
    "sg.load_state_dict(torch.load(sg_weights)[\"g_ema\"], strict = False)\n",
    "sg = sg.to(device1)\n",
    "cl_m, _ = clip.load(\"ViT-B/32\", device = device2)\n",
    "af = Backbone(input_size = 112, num_layers = 50, drop_ratio = 0.6, mode = \"ir_se\")\n",
    "af.load_state_dict(torch.load(af_weighs))\n",
    "af = af.to(device3)"
   ]
  },
  {
   "cell_type": "markdown",
   "id": "1069bed1",
   "metadata": {},
   "source": [
    "## Функции потерь"
   ]
  },
  {
   "cell_type": "code",
   "execution_count": 5,
   "id": "1769721b",
   "metadata": {},
   "outputs": [],
   "source": [
    "import torchvision.transforms.functional as F\n",
    "import gc\n",
    "\n",
    "def preprocess_img(img):\n",
    "    dim = img.shape[2]\n",
    "    mult = 224 / dim\n",
    "    upsample = torch.nn.Upsample(scale_factor = mult)\n",
    "    pre_img = upsample(img)\n",
    "    return pre_img\n",
    "\n",
    "def clip_loss(img_emb, text_emb):\n",
    "    return (1 - cl_m(img_emb.to(device2), text_emb)[0] / 100).mean()\n",
    "\n",
    "def l2_loss(w_coef, w_pred, w_true):\n",
    "    return w_coef * torch.norm(w_pred - w_true, p = 2).cpu()\n",
    "\n",
    "def id_regul(w_coef, emb_pred, emb_true):\n",
    "    if not check_high_mem_gpu(6): # Снижаем качество картинки для бюджетных видеокарт\n",
    "        avg_pool1 = torch.nn.Upsample(scale_factor = 0.5)\n",
    "        avg_pool2 = torch.nn.Upsample(scale_factor = 0.5)\n",
    "        emb_pred = avg_pool1(emb_pred)\n",
    "        emb_true = avg_pool2(emb_true)\n",
    "    emb_pred = emb_pred.reshape(-1, 3, 112, 112).to(device3)\n",
    "    emb_true = emb_true.reshape(-1, 3, 112, 112).to(device3)\n",
    "    face_pred = af(emb_pred).cpu().mean(0).flatten()\n",
    "    face_true = af(emb_true).cpu().mean(0).flatten()\n",
    "    return w_coef * (1 - torch.dot(face_pred, face_true.T))\n",
    "\n",
    "def total_loss(w_coef1, w_coef2, source_latent, my_latent, source_img_emb, my_img_emb, text_emb):\n",
    "    pre_img_0 = preprocess_img(source_img_emb)\n",
    "    pre_img = preprocess_img(my_img_emb)\n",
    "    first = clip_loss(pre_img, text_emb)\n",
    "    second = l2_loss(w_coef1, source_latent, my_latent)\n",
    "    third = id_regul(w_coef2, pre_img, pre_img_0)\n",
    "    return first + second + third"
   ]
  },
  {
   "cell_type": "code",
   "execution_count": 6,
   "id": "6a5b0e7f",
   "metadata": {},
   "outputs": [],
   "source": [
    "criterion = total_loss"
   ]
  },
  {
   "cell_type": "markdown",
   "id": "cb262e45",
   "metadata": {},
   "source": [
    "## Mapper"
   ]
  },
  {
   "cell_type": "code",
   "execution_count": 7,
   "id": "f969a1ad",
   "metadata": {},
   "outputs": [],
   "source": [
    "from copy import copy\n",
    "\n",
    "def get_keys(d, name):\n",
    "    if 'state_dict' in d:\n",
    "        d = d['state_dict']\n",
    "    d_filt = {k[len(name) + 1:]: v for k, v in d.items() if k[:len(name)] == name}\n",
    "    return d_filt\n",
    "\n",
    "class LevelsMapper(torch.nn.Module):\n",
    "    def __init__(self, mp, layers = [True, True, True]):\n",
    "        super(LevelsMapper, self).__init__()\n",
    "\n",
    "        self.layers = layers\n",
    "        if layers[0]:\n",
    "            self.coarse_mapping = copy(mp)\n",
    "        if layers[1]:\n",
    "            self.medium_mapping = copy(mp)\n",
    "        if layers[2]:\n",
    "            self.fine_mapping = copy(mp)\n",
    "\n",
    "    def forward(self, x):\n",
    "        x_coarse = x[ : 4, : ]\n",
    "        x_medium = x[4 : 8, : ]\n",
    "        x_fine = x[8 : , : ]\n",
    "\n",
    "        if layers[0]:\n",
    "            x_coarse = self.coarse_mapping(x_coarse)\n",
    "        else:\n",
    "            x_coarse = torch.zeros_like(x_coarse)\n",
    "        if layers[1]:\n",
    "            x_medium = self.medium_mapping(x_medium)\n",
    "        else:\n",
    "            x_medium = torch.zeros_like(x_medium)\n",
    "        if layers[2]:\n",
    "            x_fine = self.fine_mapping(x_fine)\n",
    "        else:\n",
    "            x_fine = torch.zeros_like(x_fine)\n",
    "\n",
    "        out = torch.cat([x_coarse, x_medium, x_fine], dim = 0)\n",
    "        return out"
   ]
  },
  {
   "cell_type": "code",
   "execution_count": 8,
   "id": "1743606e",
   "metadata": {},
   "outputs": [],
   "source": [
    "class StyleCLIPMapper(torch.nn.Module):\n",
    "    def __init__(self, sg, mp, checkpoint = \"\"):\n",
    "        super(StyleCLIPMapper, self).__init__()\n",
    "        self.checkpoint = checkpoint\n",
    "        # Define architecture\n",
    "        self.mapper = mp\n",
    "        self.decoder = sg\n",
    "        self.face_pool = torch.nn.AdaptiveAvgPool2d((256, 256))\n",
    "        # Load weights if needed\n",
    "        self.load_weights()\n",
    "\n",
    "    def load_weights(self):\n",
    "        if self.checkpoint:\n",
    "            print(\"Loading from checkpoint: {}\".format(self.checkpoint))\n",
    "            ckpt = torch.load(self.checkpoint, map_location = device1)\n",
    "            self.mapper.load_state_dict(get_keys(ckpt, \"mapper\"), strict = False)\n",
    "            self.decoder.load_state_dict(get_keys(ckpt, \"decoder\"), strict = False)\n",
    "        else:\n",
    "            print(\"Loading decoder weights from pretrained!\")\n",
    "            ckpt = torch.load(sg_weights)\n",
    "            self.decoder.load_state_dict(ckpt[\"g_ema\"], strict = False)\n",
    "\n",
    "    def forward(self, x, inject_latent = None, alpha = None):\n",
    "        codes = self.mapper(x)\n",
    "\n",
    "        images, result_latent = self.decoder([codes], input_is_latent = True, randomize_noise = False, return_latents = True)\n",
    "        images = self.face_pool(images)\n",
    "\n",
    "        return images, result_latent\n"
   ]
  },
  {
   "cell_type": "markdown",
   "id": "e05d5611",
   "metadata": {},
   "source": [
    "## Тренировка"
   ]
  },
  {
   "cell_type": "code",
   "execution_count": 9,
   "id": "4ce9ab4d",
   "metadata": {},
   "outputs": [],
   "source": [
    "def train(net, w_coef1, w_coef2, lat_train, lat_test, text, imgs_train = torch.empty((0, 1)), imgs_test = torch.empty((0, 1)), lr = 0.01, epochs = 15):\n",
    "    params = list(net.mapper.parameters())\n",
    "    optimizer = torch.optim.AdamW(params, lr = lr)\n",
    "    net.train()\n",
    "    text_emb = torch.cat([clip.tokenize(text)]).to(device2)\n",
    "    train_losses = []\n",
    "    val_losses = []\n",
    "    real = bool(len(imgs_train))\n",
    "    \n",
    "    for epoch in tqdm(range(epochs)):\n",
    "        avg_loss = 0\n",
    "        count = len(train_data)\n",
    "        for batch_idx, batch in enumerate(lat_train):\n",
    "            optimizer.zero_grad()\n",
    "            w = batch.to(device1)\n",
    "            if real:\n",
    "                x = imgs_train[batch_idx]\n",
    "            else:\n",
    "                with torch.no_grad():\n",
    "                    x, _ = net.decoder([w], input_is_latent = True, randomize_noise = False, truncation = 1, input_is_stylespace = False)\n",
    "            w_hat = w + 0.1 * net.mapper(w)\n",
    "            x_hat, w_hat, _ = net.decoder([w_hat], input_is_latent = True, return_latents = True, randomize_noise = False, truncation = 1)\n",
    "            x, x_hat, w, w_hat = x.detach().cpu(), x_hat.detach().cpu(), w.detach().cpu(), w_hat.detach().cpu()\n",
    "            loss = criterion(w_coef1, w_coef2, w, w_hat, x, x_hat, text_emb)\n",
    "            loss.backward()\n",
    "            avg_loss += loss.item()\n",
    "            optimizer.step()\n",
    "            \n",
    "        train_losses.append(avg_loss / count)\n",
    "        val_loss = validate(net, w_coef1, w_coef2, lat_test, epoch, text_emb, imgs_test)\n",
    "        val_losses.append(val_loss)\n",
    "        checkpoint_me(net, epoch)\n",
    "        \n",
    "    return net, train_losses, val_losses\n",
    "\n",
    "def validate(net, w_coef1, w_coef2, lat_test, epoch, text_emb, imgs_test):\n",
    "    net.eval()\n",
    "    avg_loss = 0\n",
    "    count = len(test_data)\n",
    "    real = bool(len(imgs_test))\n",
    "    \n",
    "    for batch_idx, batch in enumerate(lat_test):\n",
    "        w = batch.to(device1)\n",
    "        if real:\n",
    "            x = imgs_test[batch_idx]\n",
    "        else:\n",
    "            with torch.no_grad():\n",
    "                x, _ = net.decoder([w], input_is_latent = True, randomize_noise = False, truncation = 1, input_is_stylespace = False)\n",
    "        w_hat = w + 0.1 * net.mapper(w)\n",
    "        x_hat, w_hat, _ = net.decoder([w_hat], input_is_latent = True, return_latents = True, randomize_noise = False, truncation = 1)\n",
    "        x, x_hat, w, w_hat = x.detach().cpu(), x_hat.detach().cpu(), w.detach().cpu(), w_hat.detach().cpu()\n",
    "        loss = criterion(w_coef1, w_coef2, w, w_hat, x, x_hat, text_emb)\n",
    "        avg_loss += loss.item()\n",
    "\n",
    "    net.train()\n",
    "    return avg_loss / count\n",
    "\n",
    "def checkpoint_me(model, epoch):\n",
    "    save_name = \"iteration_{}.pt\".format(epoch)\n",
    "    save_dict = model.state_dict()\n",
    "    torch.save(save_dict, save_name)"
   ]
  },
  {
   "cell_type": "markdown",
   "id": "36db7c08-29e9-436c-90ae-f6b6bb693f7f",
   "metadata": {},
   "source": [
    "## Вывод"
   ]
  },
  {
   "cell_type": "code",
   "execution_count": 42,
   "id": "25b7f6ed-f96e-40fc-99c3-fc5c756a9f9c",
   "metadata": {},
   "outputs": [],
   "source": [
    "def inference(net, lat_infer):\n",
    "    result_images = torch.zeros((len(lat_infer), 6, 3, 16, 16))\n",
    "    for ind, input_batch in tqdm(enumerate(lat_infer)):\n",
    "        with torch.no_grad():\n",
    "            input_img = input_batch.to(device1)\n",
    "            result_batch = inference_on_batch(input_img, net)\n",
    "            result_images[ind] = result_batch\n",
    "    return result_images\n",
    "\n",
    "def inference_on_batch(inputs, net):\n",
    "    w = inputs\n",
    "    with torch.no_grad():\n",
    "        w_hat = w + 0.1 * net.mapper(w)\n",
    "        x_hat, _ = net.decoder([w_hat], input_is_latent = True, randomize_noise = False, truncation = 1)\n",
    "    return x_hat.cpu()"
   ]
  },
  {
   "cell_type": "code",
   "execution_count": 11,
   "id": "22c51a2c",
   "metadata": {},
   "outputs": [
    {
     "data": {
      "application/vnd.jupyter.widget-view+json": {
       "model_id": "c1d0d82957e7489c81f515a1273942aa",
       "version_major": 2,
       "version_minor": 0
      },
      "text/plain": [
       "BoundedIntText(value=15, description='Итераций:', max=30, min=5, step=5)"
      ]
     },
     "metadata": {},
     "output_type": "display_data"
    },
    {
     "data": {
      "application/vnd.jupyter.widget-view+json": {
       "model_id": "48c9d605c50d4b9da9f1ebde6b580c3c",
       "version_major": 2,
       "version_minor": 0
      },
      "text/plain": [
       "BoundedFloatText(value=0.1, description='Скорость обучения:', max=1.0, min=0.0001, step=0.0001)"
      ]
     },
     "metadata": {},
     "output_type": "display_data"
    },
    {
     "data": {
      "application/vnd.jupyter.widget-view+json": {
       "model_id": "db4f2b841d434cbdbccdb5a25224ba50",
       "version_major": 2,
       "version_minor": 0
      },
      "text/plain": [
       "BoundedFloatText(value=0.008, description='$Lambda_{L2}:$', max=0.01, min=0.001, step=0.001)"
      ]
     },
     "metadata": {},
     "output_type": "display_data"
    },
    {
     "data": {
      "application/vnd.jupyter.widget-view+json": {
       "model_id": "141d41d8d829419e9e0709b337b41c3a",
       "version_major": 2,
       "version_minor": 0
      },
      "text/plain": [
       "BoundedFloatText(value=0.005, description='$Lambda_{ID}:$', max=0.01, min=0.001, step=0.001)"
      ]
     },
     "metadata": {},
     "output_type": "display_data"
    },
    {
     "data": {
      "application/vnd.jupyter.widget-view+json": {
       "model_id": "2374ef20270e44f98dd35638431a8588",
       "version_major": 2,
       "version_minor": 0
      },
      "text/plain": [
       "Text(value='High middle-aged woman', placeholder='Введите описание')"
      ]
     },
     "metadata": {},
     "output_type": "display_data"
    },
    {
     "data": {
      "application/vnd.jupyter.widget-view+json": {
       "model_id": "5d348a83801f4d4db74865572f5c5d0d",
       "version_major": 2,
       "version_minor": 0
      },
      "text/plain": [
       "Checkbox(value=True, description='Приблизительный слой')"
      ]
     },
     "metadata": {},
     "output_type": "display_data"
    },
    {
     "data": {
      "application/vnd.jupyter.widget-view+json": {
       "model_id": "7af2c76bc16d46fa9b83cc6297f7ebf1",
       "version_major": 2,
       "version_minor": 0
      },
      "text/plain": [
       "Checkbox(value=True, description='Средний слой')"
      ]
     },
     "metadata": {},
     "output_type": "display_data"
    },
    {
     "data": {
      "application/vnd.jupyter.widget-view+json": {
       "model_id": "5d26ebac3bba44e8836594378ee89f4d",
       "version_major": 2,
       "version_minor": 0
      },
      "text/plain": [
       "Checkbox(value=True, description='Точный слой')"
      ]
     },
     "metadata": {},
     "output_type": "display_data"
    },
    {
     "data": {
      "application/vnd.jupyter.widget-view+json": {
       "model_id": "1be9ba67f54d4b109f6522675de14d57",
       "version_major": 2,
       "version_minor": 0
      },
      "text/plain": [
       "Text(value='', placeholder='Введите путь к файлу')"
      ]
     },
     "metadata": {},
     "output_type": "display_data"
    }
   ],
   "source": [
    "Epochs = widgets.BoundedIntText(\n",
    "    value = 15,\n",
    "    min = 5,\n",
    "    max = 30,\n",
    "    step = 5,\n",
    "    description = \"Итераций:\",\n",
    "    disabled = False\n",
    ")\n",
    "\n",
    "Lr = widgets.BoundedFloatText(\n",
    "    value = 0.1,\n",
    "    min = 0.0001,\n",
    "    max = 1,\n",
    "    step = 0.0001,\n",
    "    description = \"Скорость обучения:\",\n",
    "    disabled = False\n",
    ")\n",
    "\n",
    "W_coef1 = widgets.BoundedFloatText(\n",
    "    value = 0.008,\n",
    "    min = 0.001,\n",
    "    max = 0.01,\n",
    "    step = 0.001,\n",
    "    description = \"$Lambda_{L2}:$\",\n",
    "    disabled = False\n",
    ")\n",
    "\n",
    "W_coef2 = widgets.BoundedFloatText(\n",
    "    value = 0.005,\n",
    "    min = 0.001,\n",
    "    max = 0.01,\n",
    "    step = 0.001,\n",
    "    description = \"$Lambda_{ID}:$\",\n",
    "    disabled = False\n",
    ")\n",
    "\n",
    "Text = widgets.Text(\n",
    "    value = \"High middle-aged woman\",\n",
    "    placeholder = \"Введите описание\",\n",
    "    disabled = False\n",
    ")\n",
    "\n",
    "Coarse = widgets.Checkbox(\n",
    "    value = True,\n",
    "    description = \"Приблизительный слой\",\n",
    "    disabled = False\n",
    ")\n",
    "\n",
    "Medium = widgets.Checkbox(\n",
    "    value = True,\n",
    "    description = \"Средний слой\",\n",
    "    disabled = False\n",
    ")\n",
    "\n",
    "Fine = widgets.Checkbox(\n",
    "    value = True,\n",
    "    description = \"Точный слой\",\n",
    "    disabled = False\n",
    ")\n",
    "\n",
    "Checkpoint = widgets.Text(\n",
    "    value = \"\",\n",
    "    placeholder = \"Введите путь к файлу\",\n",
    "    disabled = False\n",
    ")\n",
    "\n",
    "display(Epochs)\n",
    "display(Lr)\n",
    "display(W_coef1)\n",
    "display(W_coef2)\n",
    "display(Text)\n",
    "display(Coarse)\n",
    "display(Medium)\n",
    "display(Fine)\n",
    "display(Checkpoint)\n",
    "\n",
    "epochs = Epochs.value\n",
    "lr = Lr.value\n",
    "w_coef1 = W_coef1.value\n",
    "w_coef2 = W_coef2.value\n",
    "text = Text.value\n",
    "\n",
    "layers = [Coarse.value, Medium.value, Fine.value]\n",
    "\n",
    "checkpoint = Checkpoint.value"
   ]
  },
  {
   "cell_type": "code",
   "execution_count": 43,
   "id": "4a565dff",
   "metadata": {},
   "outputs": [],
   "source": [
    "def generate_images(latent):\n",
    "    with torch.no_grad():\n",
    "        _, img, _ = sg([latent.to(device1)], input_is_latent = True, return_latents = True)\n",
    "    return img.detach().cpu()"
   ]
  },
  {
   "cell_type": "markdown",
   "id": "3d71b2d7-6530-4351-862b-80976d47ccb8",
   "metadata": {},
   "source": [
    "## Запуск"
   ]
  },
  {
   "cell_type": "code",
   "execution_count": 13,
   "id": "9ec94dbe",
   "metadata": {},
   "outputs": [
    {
     "name": "stdout",
     "output_type": "stream",
     "text": [
      "Loading decoder weights from pretrained!\n"
     ]
    },
    {
     "name": "stderr",
     "output_type": "stream",
     "text": [
      "/tmp/ipykernel_16355/2283037997.py:20: FutureWarning: You are using `torch.load` with `weights_only=False` (the current default value), which uses the default pickle module implicitly. It is possible to construct malicious pickle data which will execute arbitrary code during unpickling (See https://github.com/pytorch/pytorch/blob/main/SECURITY.md#untrusted-models for more details). In a future release, the default value for `weights_only` will be flipped to `True`. This limits the functions that could be executed during unpickling. Arbitrary objects will no longer be allowed to be loaded via this mode unless they are explicitly allowlisted by the user via `torch.serialization.add_safe_globals`. We recommend you start setting `weights_only=True` for any use case where you don't have full control of the loaded file. Please open an issue on GitHub for any issues related to this experimental feature.\n",
      "  ckpt = torch.load(sg_weights)\n"
     ]
    },
    {
     "data": {
      "application/vnd.jupyter.widget-view+json": {
       "model_id": "e0878b33dc294aba9a4618f539ff29ed",
       "version_major": 2,
       "version_minor": 0
      },
      "text/plain": [
       "  0%|          | 0/15 [00:00<?, ?it/s]"
      ]
     },
     "metadata": {},
     "output_type": "display_data"
    },
    {
     "name": "stderr",
     "output_type": "stream",
     "text": [
      "/tmp/ipykernel_16355/3745044634.py:27: UserWarning: The use of `x.T` on tensors of dimension other than 2 to reverse their shape is deprecated and it will throw an error in a future release. Consider `x.mT` to transpose batches of matrices or `x.permute(*torch.arange(x.ndim - 1, -1, -1))` to reverse the dimensions of a tensor. (Triggered internally at ../aten/src/ATen/native/TensorShape.cpp:3697.)\n",
      "  return w_coef * (1 - torch.dot(face_pred, face_true.T))\n"
     ]
    }
   ],
   "source": [
    "z1 = torch.randn(3000, 512)\n",
    "z2 = torch.randn(2000, 512)\n",
    "train_data = DataLoader(z1, batch_size = batch_size, shuffle = True, num_workers = 1, drop_last = True)\n",
    "test_data = DataLoader(z2, batch_size = batch_size, shuffle = False, num_workers = 1, drop_last = True)\n",
    "\n",
    "imgs_train = torch.cat([generate_images(cur_z) for cur_z in train_data])\n",
    "imgs_test = torch.cat([generate_images(cur_z) for cur_z in test_data])\n",
    "\n",
    "torch.cuda.empty_cache()\n",
    "\n",
    "mapper = LevelsMapper(mp, layers)\n",
    "scmapper = StyleCLIPMapper(sg, mapper, checkpoint)\n",
    "\n",
    "model, train_losses, val_losses = train(scmapper, w_coef1, w_coef2, imgs_train, imgs_test, text, lr = lr, epochs = epochs)"
   ]
  },
  {
   "cell_type": "code",
   "execution_count": 44,
   "id": "b601b604-0a80-4018-aa0f-e490f46d6d4e",
   "metadata": {},
   "outputs": [
    {
     "data": {
      "application/vnd.jupyter.widget-view+json": {
       "model_id": "323e647546b8446f86a02fa8aba72951",
       "version_major": 2,
       "version_minor": 0
      },
      "text/plain": [
       "0it [00:00, ?it/s]"
      ]
     },
     "metadata": {},
     "output_type": "display_data"
    }
   ],
   "source": [
    "z0 = torch.randn(200, 512)\n",
    "infer_data = DataLoader(z0, batch_size = batch_size, shuffle = True, num_workers = 1, drop_last = True)\n",
    "\n",
    "imgs_infer = torch.cat([generate_images(cur_z) for cur_z in infer_data])\n",
    "\n",
    "imgs_pred = inference(model, imgs_infer)\n",
    "imgs_pred = imgs_pred.reshape(-1, 3, 16, 16)\n",
    "\n",
    "imgs_pred = torch.permute(imgs_pred, (0, 2, 3, 1))"
   ]
  },
  {
   "cell_type": "markdown",
   "id": "7cb12c39",
   "metadata": {},
   "source": [
    "## Сравнение изображений"
   ]
  },
  {
   "cell_type": "code",
   "execution_count": 45,
   "id": "695be495",
   "metadata": {},
   "outputs": [],
   "source": [
    "def normalize(cur_img):\n",
    "    min_img = cur_img.min()\n",
    "    max_img = cur_img.max()\n",
    "    cur_img -= min_img\n",
    "    diff_img = max_img - min_img\n",
    "    cur_img /= diff_img\n",
    "    return cur_img\n",
    "\n",
    "imgs_pred = normalize(imgs_pred)"
   ]
  },
  {
   "cell_type": "code",
   "execution_count": 46,
   "id": "8dec48c1",
   "metadata": {},
   "outputs": [
    {
     "data": {
      "image/png": "[encoded data removed]",
      "text/plain": [
       "<Figure size 1000x1000 with 22 Axes>"
      ]
     },
     "metadata": {},
     "output_type": "display_data"
    }
   ],
   "source": [
    "import matplotlib.pyplot as plt\n",
    "\n",
    "plt.figure(figsize = (10, 10))\n",
    "for ind in range(20):\n",
    "    plt.subplot(7, 4, ind + 1)\n",
    "    plt.axis(\"off\")\n",
    "    plt.imshow(imgs_pred[ind])\n",
    "plt.subplot(6, 2, 11)\n",
    "plt.plot(range(epochs), train_losses)\n",
    "plt.subplot(6, 2, 12)\n",
    "plt.plot(range(epochs), val_losses)\n",
    "plt.show()"
   ]
  },
  {
   "cell_type": "markdown",
   "id": "c9a6ce9d",
   "metadata": {},
   "source": [
    "Есть попытка сгенерировать женщину, но она не очень удачная."
   ]
  },
  {
   "cell_type": "markdown",
   "id": "8399cd5e",
   "metadata": {},
   "source": [
    "# Эксперименты"
   ]
  },
  {
   "cell_type": "markdown",
   "id": "84e581ea",
   "metadata": {},
   "source": [
    "### Эксперимент 1"
   ]
  },
  {
   "cell_type": "markdown",
   "id": "e1f2a363",
   "metadata": {},
   "source": [
    "Убираем точный слой."
   ]
  },
  {
   "cell_type": "code",
   "execution_count": 17,
   "id": "e0c979c8",
   "metadata": {},
   "outputs": [
    {
     "name": "stdout",
     "output_type": "stream",
     "text": [
      "Loading from checkpoint: iteration_14.pt\n"
     ]
    },
    {
     "name": "stderr",
     "output_type": "stream",
     "text": [
      "/tmp/ipykernel_16355/2283037997.py:15: FutureWarning: You are using `torch.load` with `weights_only=False` (the current default value), which uses the default pickle module implicitly. It is possible to construct malicious pickle data which will execute arbitrary code during unpickling (See https://github.com/pytorch/pytorch/blob/main/SECURITY.md#untrusted-models for more details). In a future release, the default value for `weights_only` will be flipped to `True`. This limits the functions that could be executed during unpickling. Arbitrary objects will no longer be allowed to be loaded via this mode unless they are explicitly allowlisted by the user via `torch.serialization.add_safe_globals`. We recommend you start setting `weights_only=True` for any use case where you don't have full control of the loaded file. Please open an issue on GitHub for any issues related to this experimental feature.\n",
      "  ckpt = torch.load(self.checkpoint, map_location = device1)\n"
     ]
    },
    {
     "data": {
      "application/vnd.jupyter.widget-view+json": {
       "model_id": "76e74adaf63a4e42b79201e7b753cc84",
       "version_major": 2,
       "version_minor": 0
      },
      "text/plain": [
       "0it [00:00, ?it/s]"
      ]
     },
     "metadata": {},
     "output_type": "display_data"
    }
   ],
   "source": [
    "checkpoint = \"iteration_14.pt\"\n",
    "\n",
    "layers = [True, True, False]\n",
    "\n",
    "mapper = LevelsMapper(mp, layers)\n",
    "scmapper = StyleCLIPMapper(sg, mapper, checkpoint)\n",
    "\n",
    "imgs_pred = inference(scmapper, infer_data)\n",
    "imgs_pred = imgs_pred.reshape(-1, 3, 16, 16)\n",
    "imgs_pred = torch.permute(imgs_pred, (0, 2, 3, 1))\n",
    "\n",
    "imgs_pred = normalize(imgs_pred)"
   ]
  },
  {
   "cell_type": "code",
   "execution_count": 18,
   "id": "88221556",
   "metadata": {},
   "outputs": [
    {
     "data": {
      "image/png": "[encoded data removed]",
      "text/plain": [
       "<Figure size 1000x1000 with 20 Axes>"
      ]
     },
     "metadata": {},
     "output_type": "display_data"
    }
   ],
   "source": [
    "plt.figure(figsize = (10, 10))\n",
    "for ind in range(20):\n",
    "    plt.subplot(7, 4, ind + 1)\n",
    "    plt.axis(\"off\")\n",
    "    plt.imshow(imgs_pred[ind])"
   ]
  },
  {
   "cell_type": "markdown",
   "id": "b2fc4b93",
   "metadata": {},
   "source": [
    "Не похоже на нормальные картинки."
   ]
  },
  {
   "cell_type": "markdown",
   "id": "51eb9559",
   "metadata": {},
   "source": [
    "### Эксперимент 2"
   ]
  },
  {
   "cell_type": "markdown",
   "id": "1316c9f1",
   "metadata": {},
   "source": [
    "Оставляем только приблизительный слой."
   ]
  },
  {
   "cell_type": "code",
   "execution_count": 19,
   "id": "0c85e13a",
   "metadata": {},
   "outputs": [
    {
     "data": {
      "application/vnd.jupyter.widget-view+json": {
       "model_id": "321502828fe64ea68942a87e265c69da",
       "version_major": 2,
       "version_minor": 0
      },
      "text/plain": [
       "0it [00:00, ?it/s]"
      ]
     },
     "metadata": {},
     "output_type": "display_data"
    }
   ],
   "source": [
    "checkpoint = \"iteration_14.pt\"\n",
    "\n",
    "layers = [True, False, False]\n",
    "\n",
    "imgs_pred = inference(scmapper, infer_data)\n",
    "imgs_pred = imgs_pred.reshape(-1, 3, 16, 16)\n",
    "imgs_pred = torch.permute(imgs_pred, (0, 2, 3, 1))\n",
    "\n",
    "imgs_pred = normalize(imgs_pred)"
   ]
  },
  {
   "cell_type": "code",
   "execution_count": 20,
   "id": "1fb1568c",
   "metadata": {},
   "outputs": [
    {
     "data": {
      "image/png": "[encoded data removed]",
      "text/plain": [
       "<Figure size 1000x1000 with 20 Axes>"
      ]
     },
     "metadata": {},
     "output_type": "display_data"
    }
   ],
   "source": [
    "plt.figure(figsize = (10, 10))\n",
    "for ind in range(20):\n",
    "    plt.subplot(7, 4, ind + 1)\n",
    "    plt.axis(\"off\")\n",
    "    plt.imshow(imgs_pred[ind])"
   ]
  },
  {
   "cell_type": "markdown",
   "id": "4d994b9b",
   "metadata": {},
   "source": [
    "Разницы с предыдущим особо не видно."
   ]
  },
  {
   "cell_type": "markdown",
   "id": "f047480d",
   "metadata": {},
   "source": [
    "### Эксперимент 3"
   ]
  },
  {
   "cell_type": "markdown",
   "id": "62a56b50",
   "metadata": {},
   "source": [
    "Выберем другие веса."
   ]
  },
  {
   "cell_type": "code",
   "execution_count": 21,
   "id": "d065c749",
   "metadata": {},
   "outputs": [
    {
     "data": {
      "application/vnd.jupyter.widget-view+json": {
       "model_id": "e0dd57c5ab074c7295d0b8c3b9ad5d6f",
       "version_major": 2,
       "version_minor": 0
      },
      "text/plain": [
       "0it [00:00, ?it/s]"
      ]
     },
     "metadata": {},
     "output_type": "display_data"
    }
   ],
   "source": [
    "checkpoint = \"iteration_11.pt\"\n",
    "\n",
    "layers = [True, False, False]\n",
    "\n",
    "imgs_pred = inference(scmapper, infer_data)\n",
    "imgs_pred = imgs_pred.reshape(-1, 3, 16, 16)\n",
    "imgs_pred = torch.permute(imgs_pred, (0, 2, 3, 1))\n",
    "\n",
    "imgs_pred = normalize(imgs_pred)"
   ]
  },
  {
   "cell_type": "code",
   "execution_count": 22,
   "id": "db720218",
   "metadata": {},
   "outputs": [
    {
     "data": {
      "image/png": "[encoded data removed]",
      "text/plain": [
       "<Figure size 1000x1000 with 20 Axes>"
      ]
     },
     "metadata": {},
     "output_type": "display_data"
    }
   ],
   "source": [
    "plt.figure(figsize = (10, 10))\n",
    "for ind in range(20):\n",
    "    plt.subplot(7, 4, ind + 1)\n",
    "    plt.axis(\"off\")\n",
    "    plt.imshow(imgs_pred[ind])"
   ]
  },
  {
   "cell_type": "markdown",
   "id": "2ff9889c",
   "metadata": {},
   "source": [
    "Совершенно не похоже на картинки."
   ]
  },
  {
   "cell_type": "markdown",
   "id": "ab40d1d6-7e0c-4ff9-bb59-d3adba1b0da3",
   "metadata": {},
   "source": [
    "## Реальные изображения"
   ]
  },
  {
   "cell_type": "code",
   "execution_count": 23,
   "id": "685cb42f-5823-4a6b-96a6-adc0335d1e84",
   "metadata": {},
   "outputs": [],
   "source": [
    "def open_image(path, name, transform):\n",
    "    full_path = os.path.join(path, name)\n",
    "    img = Image.open(full_path)\n",
    "    tr_img = transform(img)\n",
    "    return tr_img"
   ]
  },
  {
   "cell_type": "code",
   "execution_count": 34,
   "id": "ed955e35-536e-49db-9c96-744bcd9de907",
   "metadata": {},
   "outputs": [
    {
     "name": "stdout",
     "output_type": "stream",
     "text": [
      "202599\n",
      "Loading from checkpoint: iteration_11.pt\n"
     ]
    },
    {
     "name": "stderr",
     "output_type": "stream",
     "text": [
      "/tmp/ipykernel_16355/2283037997.py:15: FutureWarning: You are using `torch.load` with `weights_only=False` (the current default value), which uses the default pickle module implicitly. It is possible to construct malicious pickle data which will execute arbitrary code during unpickling (See https://github.com/pytorch/pytorch/blob/main/SECURITY.md#untrusted-models for more details). In a future release, the default value for `weights_only` will be flipped to `True`. This limits the functions that could be executed during unpickling. Arbitrary objects will no longer be allowed to be loaded via this mode unless they are explicitly allowlisted by the user via `torch.serialization.add_safe_globals`. We recommend you start setting `weights_only=True` for any use case where you don't have full control of the loaded file. Please open an issue on GitHub for any issues related to this experimental feature.\n",
      "  ckpt = torch.load(self.checkpoint, map_location = device1)\n"
     ]
    },
    {
     "data": {
      "application/vnd.jupyter.widget-view+json": {
       "model_id": "a5999d5328424a80bf08aebd49c19967",
       "version_major": 2,
       "version_minor": 0
      },
      "text/plain": [
       "  0%|          | 0/15 [00:01<?, ?it/s]"
      ]
     },
     "metadata": {},
     "output_type": "display_data"
    }
   ],
   "source": [
    "from PIL import Image\n",
    "import torchvision.transforms as tf\n",
    "import numpy as np\n",
    "import random as rnd\n",
    "\n",
    "transform = tf.Compose([tf.Resize((224, 224)), tf.ToTensor(), tf.Normalize([0.5, 0.5, 0.5], [0.5, 0.5, 0.5])])\n",
    "\n",
    "base_path = \"../dataset/img_align_celeba\"\n",
    "files = list(os.walk(base_path))[0][2]\n",
    "train_files = rnd.sample(files, 3000)\n",
    "test_files = rnd.sample(files, 2000)\n",
    "\n",
    "lat_train = copy(imgs_train)\n",
    "lat_test = copy(imgs_test)\n",
    "lat_infer = copy(imgs_infer)\n",
    "\n",
    "imgs_train = [open_image(base_path, name, transform) for name in train_files]\n",
    "imgs_test = [open_image(base_path, name, transform) for name in test_files]\n",
    "\n",
    "torch.cuda.empty_cache()\n",
    "\n",
    "mapper = LevelsMapper(mp, layers)\n",
    "scmapper = StyleCLIPMapper(sg, mapper, checkpoint)\n",
    "\n",
    "model, train_losses, val_losses = train(scmapper, w_coef1, w_coef2, lat_train, lat_test, text, imgs_train, imgs_test, lr = lr, epochs = epochs)"
   ]
  },
  {
   "cell_type": "code",
   "execution_count": 47,
   "id": "a7911a91-526e-4a62-bfe2-09adaba4f94a",
   "metadata": {},
   "outputs": [
    {
     "data": {
      "application/vnd.jupyter.widget-view+json": {
       "model_id": "5b96be2768b745a7883941847e6ab49b",
       "version_major": 2,
       "version_minor": 0
      },
      "text/plain": [
       "0it [00:00, ?it/s]"
      ]
     },
     "metadata": {},
     "output_type": "display_data"
    }
   ],
   "source": [
    "imgs_pred = inference(model, lat_infer)\n",
    "imgs_pred = imgs_pred.reshape(-1, 3, 16, 16)\n",
    "\n",
    "imgs_pred = torch.permute(imgs_pred, (0, 2, 3, 1))\n",
    "\n",
    "imgs_pred = normalize(imgs_pred)"
   ]
  },
  {
   "cell_type": "code",
   "execution_count": 48,
   "id": "0e7be2a2-db29-4cfc-b4de-7a34ea0215f3",
   "metadata": {},
   "outputs": [
    {
     "data": {
      "image/png": "[encoded data removed]",
      "text/plain": [
       "<Figure size 1000x1000 with 22 Axes>"
      ]
     },
     "metadata": {},
     "output_type": "display_data"
    }
   ],
   "source": [
    "plt.figure(figsize = (10, 10))\n",
    "for ind in range(20):\n",
    "    plt.subplot(7, 4, ind + 1)\n",
    "    plt.axis(\"off\")\n",
    "    plt.imshow(imgs_pred[ind])\n",
    "plt.subplot(6, 2, 11)\n",
    "plt.plot(range(epochs), train_losses)\n",
    "plt.subplot(6, 2, 12)\n",
    "plt.plot(range(epochs), val_losses)\n",
    "plt.show()"
   ]
  },
  {
   "cell_type": "code",
   "execution_count": null,
   "id": "39f8f62a-4159-4f18-9594-857eb719364c",
   "metadata": {},
   "outputs": [],
   "source": []
  }
 ],
 "metadata": {
  "celltoolbar": "Необработанный формат ячейки",
  "kernelspec": {
   "display_name": "images",
   "language": "python",
   "name": "images"
  },
  "language_info": {
   "codemirror_mode": {
    "name": "ipython",
    "version": 3
   },
   "file_extension": ".py",
   "mimetype": "text/x-python",
   "name": "python",
   "nbconvert_exporter": "python",
   "pygments_lexer": "ipython3",
   "version": "3.12.0"
  }
 },
 "nbformat": 4,
 "nbformat_minor": 5
}
